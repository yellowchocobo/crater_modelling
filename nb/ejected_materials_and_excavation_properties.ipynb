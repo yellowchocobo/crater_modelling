{
 "cells": [
  {
   "cell_type": "code",
   "execution_count": 1,
   "metadata": {},
   "outputs": [
    {
     "name": "stdout",
     "output_type": "stream",
     "text": [
      "==============================================================\n",
      "\n",
      "               _____         _      ______ _____  _       _\n",
      "              / ____|  /\\   | |    |  ____|  __ \\| |     | |\n",
      "  _ __  _   _| (___   /  \\  | |    | |__  | |__) | | ___ | |_\n",
      " | '_ \\| | | |\\___ \\ / /\\ \\ | |    |  __| |  ___/| |/ _ \\| __|\n",
      " | |_) | |_| |____) / ____ \\| |____| |____| |    | | (_) | |_\n",
      " | .__/ \\__, |_____/_/    \\_\\______|______|_|    |_|\\___/ \\__|\n",
      " | |     __/ |\n",
      " |_|    |___/\n",
      "                        by Tom Davison\n",
      "\n",
      "==============================================================\n"
     ]
    }
   ],
   "source": [
    "# common library\n",
    "import matplotlib.pyplot as plt\n",
    "\n",
    "# personal crater modelling library\n",
    "import pySALEPlot as psp\n",
    "import ejecta as ej # calculate properties of ejected materials, errors when loading this module"
   ]
  },
  {
   "cell_type": "markdown",
   "metadata": {},
   "source": [
    "### INPUT parameters\n",
    "`model` jdata model <br>\n",
    "`method = 3` Take values equal to `2` or `3`, corresponds to the number of steps used after a tracer was ejected above a threshold above the surface <br>\n",
    "`thresholdz` Height above which an ejected material is considered to be ejected (the value is normalized to the projectile radius) <br>\n",
    "`g`, surface gravity of the planetary body` <br>"
   ]
  },
  {
   "cell_type": "code",
   "execution_count": 2,
   "metadata": {},
   "outputs": [
    {
     "name": "stdout",
     "output_type": "stream",
     "text": [
      "Opened iSALE data file '/home/nilscp/iSALE/Dellen/share/examples/Chicxulub/Chicxulub/jdata.dat', with 34 time steps\n"
     ]
    }
   ],
   "source": [
    "method = 2\n",
    "thresholdz = 0.01\n",
    "g = 9.81\n",
    "path_jdata = \"/home/nilscp/iSALE/Dellen/share/examples/Chicxulub/Chicxulub/jdata.dat\"\n",
    "path_data = \"/home/nilscp/iSALE/results/tmp/\"\n",
    "model = psp.opendatfile(path_jdata)"
   ]
  },
  {
   "cell_type": "markdown",
   "metadata": {},
   "source": [
    "`ejected_materials_positions` stores the position of the materials ejected above the height threshold `thresholdz`"
   ]
  },
  {
   "cell_type": "code",
   "execution_count": 3,
   "metadata": {},
   "outputs": [
    {
     "name": "stdout",
     "output_type": "stream",
     "text": [
      "Read in ['Den', 'TrP'] for timestep 0 (0.000e+00 s)\n",
      "Read in ['Den', 'TrP'] for timestep 1 (5.006e+00 s)\n",
      "Read in ['Den', 'TrP'] for timestep 2 (1.000e+01 s)\n",
      "Read in ['Den', 'TrP'] for timestep 3 (1.501e+01 s)\n",
      "Read in ['Den', 'TrP'] for timestep 1 (5.006e+00 s)\n",
      "Read in ['Den', 'TrP'] for timestep 2 (1.000e+01 s)\n",
      "Read in ['Den', 'TrP'] for timestep 3 (1.501e+01 s)\n",
      "Read in ['Den', 'TrP'] for timestep 4 (2.001e+01 s)\n",
      "Read in ['Den', 'TrP'] for timestep 2 (1.000e+01 s)\n",
      "Read in ['Den', 'TrP'] for timestep 3 (1.501e+01 s)\n",
      "Read in ['Den', 'TrP'] for timestep 4 (2.001e+01 s)\n",
      "Read in ['Den', 'TrP'] for timestep 5 (2.500e+01 s)\n",
      "Read in ['Den', 'TrP'] for timestep 3 (1.501e+01 s)\n",
      "Read in ['Den', 'TrP'] for timestep 4 (2.001e+01 s)\n",
      "Read in ['Den', 'TrP'] for timestep 5 (2.500e+01 s)\n",
      "Read in ['Den', 'TrP'] for timestep 6 (3.000e+01 s)\n",
      "Read in ['Den', 'TrP'] for timestep 4 (2.001e+01 s)\n",
      "Read in ['Den', 'TrP'] for timestep 5 (2.500e+01 s)\n",
      "Read in ['Den', 'TrP'] for timestep 6 (3.000e+01 s)\n",
      "Read in ['Den', 'TrP'] for timestep 7 (3.501e+01 s)\n",
      "Read in ['Den', 'TrP'] for timestep 5 (2.500e+01 s)\n",
      "Read in ['Den', 'TrP'] for timestep 6 (3.000e+01 s)\n",
      "Read in ['Den', 'TrP'] for timestep 7 (3.501e+01 s)\n",
      "Read in ['Den', 'TrP'] for timestep 8 (4.000e+01 s)\n",
      "Read in ['Den', 'TrP'] for timestep 6 (3.000e+01 s)\n",
      "Read in ['Den', 'TrP'] for timestep 7 (3.501e+01 s)\n",
      "Read in ['Den', 'TrP'] for timestep 8 (4.000e+01 s)\n",
      "Read in ['Den', 'TrP'] for timestep 9 (4.500e+01 s)\n",
      "Read in ['Den', 'TrP'] for timestep 7 (3.501e+01 s)\n",
      "Read in ['Den', 'TrP'] for timestep 8 (4.000e+01 s)\n",
      "Read in ['Den', 'TrP'] for timestep 9 (4.500e+01 s)\n",
      "Read in ['Den', 'TrP'] for timestep 10 (5.000e+01 s)\n",
      "Read in ['Den', 'TrP'] for timestep 8 (4.000e+01 s)\n",
      "Read in ['Den', 'TrP'] for timestep 9 (4.500e+01 s)\n",
      "Read in ['Den', 'TrP'] for timestep 10 (5.000e+01 s)\n",
      "Read in ['Den', 'TrP'] for timestep 11 (5.500e+01 s)\n",
      "Read in ['Den', 'TrP'] for timestep 9 (4.500e+01 s)\n",
      "Read in ['Den', 'TrP'] for timestep 10 (5.000e+01 s)\n",
      "Read in ['Den', 'TrP'] for timestep 11 (5.500e+01 s)\n",
      "Read in ['Den', 'TrP'] for timestep 12 (6.000e+01 s)\n",
      "Read in ['Den', 'TrP'] for timestep 10 (5.000e+01 s)\n",
      "Read in ['Den', 'TrP'] for timestep 11 (5.500e+01 s)\n",
      "Read in ['Den', 'TrP'] for timestep 12 (6.000e+01 s)\n",
      "Read in ['Den', 'TrP'] for timestep 13 (6.500e+01 s)\n",
      "Read in ['Den', 'TrP'] for timestep 11 (5.500e+01 s)\n",
      "Read in ['Den', 'TrP'] for timestep 12 (6.000e+01 s)\n",
      "Read in ['Den', 'TrP'] for timestep 13 (6.500e+01 s)\n",
      "Read in ['Den', 'TrP'] for timestep 14 (7.000e+01 s)\n",
      "Read in ['Den', 'TrP'] for timestep 12 (6.000e+01 s)\n",
      "Read in ['Den', 'TrP'] for timestep 13 (6.500e+01 s)\n",
      "Read in ['Den', 'TrP'] for timestep 14 (7.000e+01 s)\n",
      "Read in ['Den', 'TrP'] for timestep 15 (7.500e+01 s)\n",
      "Read in ['Den', 'TrP'] for timestep 13 (6.500e+01 s)\n",
      "Read in ['Den', 'TrP'] for timestep 14 (7.000e+01 s)\n",
      "Read in ['Den', 'TrP'] for timestep 15 (7.500e+01 s)\n",
      "Read in ['Den', 'TrP'] for timestep 16 (8.001e+01 s)\n",
      "Read in ['Den', 'TrP'] for timestep 14 (7.000e+01 s)\n",
      "Read in ['Den', 'TrP'] for timestep 15 (7.500e+01 s)\n",
      "Read in ['Den', 'TrP'] for timestep 16 (8.001e+01 s)\n",
      "Read in ['Den', 'TrP'] for timestep 17 (8.501e+01 s)\n",
      "Read in ['Den', 'TrP'] for timestep 15 (7.500e+01 s)\n",
      "Read in ['Den', 'TrP'] for timestep 16 (8.001e+01 s)\n",
      "Read in ['Den', 'TrP'] for timestep 17 (8.501e+01 s)\n",
      "Read in ['Den', 'TrP'] for timestep 18 (9.000e+01 s)\n",
      "Read in ['Den', 'TrP'] for timestep 16 (8.001e+01 s)\n",
      "Read in ['Den', 'TrP'] for timestep 17 (8.501e+01 s)\n",
      "Read in ['Den', 'TrP'] for timestep 18 (9.000e+01 s)\n",
      "Read in ['Den', 'TrP'] for timestep 19 (9.501e+01 s)\n",
      "Read in ['Den', 'TrP'] for timestep 17 (8.501e+01 s)\n",
      "Read in ['Den', 'TrP'] for timestep 18 (9.000e+01 s)\n",
      "Read in ['Den', 'TrP'] for timestep 19 (9.501e+01 s)\n",
      "Read in ['Den', 'TrP'] for timestep 20 (1.000e+02 s)\n",
      "Read in ['Den', 'TrP'] for timestep 18 (9.000e+01 s)\n",
      "Read in ['Den', 'TrP'] for timestep 19 (9.501e+01 s)\n",
      "Read in ['Den', 'TrP'] for timestep 20 (1.000e+02 s)\n",
      "Read in ['Den', 'TrP'] for timestep 21 (1.050e+02 s)\n",
      "Read in ['Den', 'TrP'] for timestep 19 (9.501e+01 s)\n",
      "Read in ['Den', 'TrP'] for timestep 20 (1.000e+02 s)\n",
      "Read in ['Den', 'TrP'] for timestep 21 (1.050e+02 s)\n",
      "Read in ['Den', 'TrP'] for timestep 22 (1.100e+02 s)\n",
      "Read in ['Den', 'TrP'] for timestep 20 (1.000e+02 s)\n",
      "Read in ['Den', 'TrP'] for timestep 21 (1.050e+02 s)\n",
      "Read in ['Den', 'TrP'] for timestep 22 (1.100e+02 s)\n",
      "Read in ['Den', 'TrP'] for timestep 23 (1.150e+02 s)\n",
      "Read in ['Den', 'TrP'] for timestep 21 (1.050e+02 s)\n",
      "Read in ['Den', 'TrP'] for timestep 22 (1.100e+02 s)\n",
      "Read in ['Den', 'TrP'] for timestep 23 (1.150e+02 s)\n",
      "Read in ['Den', 'TrP'] for timestep 24 (1.200e+02 s)\n",
      "Read in ['Den', 'TrP'] for timestep 22 (1.100e+02 s)\n",
      "Read in ['Den', 'TrP'] for timestep 23 (1.150e+02 s)\n",
      "Read in ['Den', 'TrP'] for timestep 24 (1.200e+02 s)\n",
      "Read in ['Den', 'TrP'] for timestep 25 (1.250e+02 s)\n",
      "Read in ['Den', 'TrP'] for timestep 23 (1.150e+02 s)\n",
      "Read in ['Den', 'TrP'] for timestep 24 (1.200e+02 s)\n",
      "Read in ['Den', 'TrP'] for timestep 25 (1.250e+02 s)\n",
      "Read in ['Den', 'TrP'] for timestep 26 (1.300e+02 s)\n",
      "Read in ['Den', 'TrP'] for timestep 24 (1.200e+02 s)\n",
      "Read in ['Den', 'TrP'] for timestep 25 (1.250e+02 s)\n",
      "Read in ['Den', 'TrP'] for timestep 26 (1.300e+02 s)\n",
      "Read in ['Den', 'TrP'] for timestep 27 (1.350e+02 s)\n",
      "Read in ['Den', 'TrP'] for timestep 25 (1.250e+02 s)\n",
      "Read in ['Den', 'TrP'] for timestep 26 (1.300e+02 s)\n",
      "Read in ['Den', 'TrP'] for timestep 27 (1.350e+02 s)\n",
      "Read in ['Den', 'TrP'] for timestep 28 (1.400e+02 s)\n",
      "Read in ['Den', 'TrP'] for timestep 26 (1.300e+02 s)\n",
      "Read in ['Den', 'TrP'] for timestep 27 (1.350e+02 s)\n",
      "Read in ['Den', 'TrP'] for timestep 28 (1.400e+02 s)\n",
      "Read in ['Den', 'TrP'] for timestep 29 (1.450e+02 s)\n",
      "Read in ['Den', 'TrP'] for timestep 27 (1.350e+02 s)\n",
      "Read in ['Den', 'TrP'] for timestep 28 (1.400e+02 s)\n",
      "Read in ['Den', 'TrP'] for timestep 29 (1.450e+02 s)\n",
      "Read in ['Den', 'TrP'] for timestep 30 (1.500e+02 s)\n",
      "Read in ['Den', 'TrP'] for timestep 28 (1.400e+02 s)\n",
      "Read in ['Den', 'TrP'] for timestep 29 (1.450e+02 s)\n",
      "Read in ['Den', 'TrP'] for timestep 30 (1.500e+02 s)\n",
      "Read in ['Den', 'TrP'] for timestep 31 (1.550e+02 s)\n",
      "Read in ['Den', 'TrP'] for timestep 29 (1.450e+02 s)\n",
      "Read in ['Den', 'TrP'] for timestep 30 (1.500e+02 s)\n",
      "Read in ['Den', 'TrP'] for timestep 31 (1.550e+02 s)\n",
      "Read in ['Den', 'TrP'] for timestep 32 (1.600e+02 s)\n",
      "Read in ['Den', 'TrP'] for timestep 30 (1.500e+02 s)\n",
      "Read in ['Den', 'TrP'] for timestep 31 (1.550e+02 s)\n",
      "Read in ['Den', 'TrP'] for timestep 32 (1.600e+02 s)\n",
      "Read in ['Den', 'TrP'] for timestep 33 (1.650e+02 s)\n"
     ]
    }
   ],
   "source": [
    "(x_tracers_pos, y_tracers_pos, tracer_idx, timestep, n) = ej.ejected_materials_positions(model, method, thresholdz)"
   ]
  },
  {
   "cell_type": "code",
   "execution_count": 4,
   "metadata": {},
   "outputs": [
    {
     "name": "stdout",
     "output_type": "stream",
     "text": [
      "Read in ['Den', 'TrP'] for timestep 0 (0.000e+00 s)\n",
      "Read in ['Den', 'TrP'] for timestep 1 (5.006e+00 s)\n",
      "Read in ['Den', 'TrP'] for timestep 2 (1.000e+01 s)\n",
      "Read in ['Den', 'TrP'] for timestep 3 (1.501e+01 s)\n",
      "Read in ['Den', 'TrP'] for timestep 1 (5.006e+00 s)\n",
      "Read in ['Den', 'TrP'] for timestep 2 (1.000e+01 s)\n",
      "Read in ['Den', 'TrP'] for timestep 3 (1.501e+01 s)\n",
      "Read in ['Den', 'TrP'] for timestep 4 (2.001e+01 s)\n",
      "Read in ['Den', 'TrP'] for timestep 2 (1.000e+01 s)\n",
      "Read in ['Den', 'TrP'] for timestep 3 (1.501e+01 s)\n",
      "Read in ['Den', 'TrP'] for timestep 4 (2.001e+01 s)\n",
      "Read in ['Den', 'TrP'] for timestep 5 (2.500e+01 s)\n",
      "Read in ['Den', 'TrP'] for timestep 3 (1.501e+01 s)\n",
      "Read in ['Den', 'TrP'] for timestep 4 (2.001e+01 s)\n",
      "Read in ['Den', 'TrP'] for timestep 5 (2.500e+01 s)\n",
      "Read in ['Den', 'TrP'] for timestep 6 (3.000e+01 s)\n",
      "Read in ['Den', 'TrP'] for timestep 4 (2.001e+01 s)\n",
      "Read in ['Den', 'TrP'] for timestep 5 (2.500e+01 s)\n",
      "Read in ['Den', 'TrP'] for timestep 6 (3.000e+01 s)\n",
      "Read in ['Den', 'TrP'] for timestep 7 (3.501e+01 s)\n",
      "Read in ['Den', 'TrP'] for timestep 5 (2.500e+01 s)\n",
      "Read in ['Den', 'TrP'] for timestep 6 (3.000e+01 s)\n",
      "Read in ['Den', 'TrP'] for timestep 7 (3.501e+01 s)\n",
      "Read in ['Den', 'TrP'] for timestep 8 (4.000e+01 s)\n",
      "Read in ['Den', 'TrP'] for timestep 6 (3.000e+01 s)\n",
      "Read in ['Den', 'TrP'] for timestep 7 (3.501e+01 s)\n",
      "Read in ['Den', 'TrP'] for timestep 8 (4.000e+01 s)\n",
      "Read in ['Den', 'TrP'] for timestep 9 (4.500e+01 s)\n",
      "Read in ['Den', 'TrP'] for timestep 7 (3.501e+01 s)\n",
      "Read in ['Den', 'TrP'] for timestep 8 (4.000e+01 s)\n",
      "Read in ['Den', 'TrP'] for timestep 9 (4.500e+01 s)\n",
      "Read in ['Den', 'TrP'] for timestep 10 (5.000e+01 s)\n",
      "Read in ['Den', 'TrP'] for timestep 8 (4.000e+01 s)\n",
      "Read in ['Den', 'TrP'] for timestep 9 (4.500e+01 s)\n",
      "Read in ['Den', 'TrP'] for timestep 10 (5.000e+01 s)\n",
      "Read in ['Den', 'TrP'] for timestep 11 (5.500e+01 s)\n",
      "Read in ['Den', 'TrP'] for timestep 9 (4.500e+01 s)\n",
      "Read in ['Den', 'TrP'] for timestep 10 (5.000e+01 s)\n",
      "Read in ['Den', 'TrP'] for timestep 11 (5.500e+01 s)\n",
      "Read in ['Den', 'TrP'] for timestep 12 (6.000e+01 s)\n",
      "Read in ['Den', 'TrP'] for timestep 10 (5.000e+01 s)\n",
      "Read in ['Den', 'TrP'] for timestep 11 (5.500e+01 s)\n",
      "Read in ['Den', 'TrP'] for timestep 12 (6.000e+01 s)\n",
      "Read in ['Den', 'TrP'] for timestep 13 (6.500e+01 s)\n",
      "Read in ['Den', 'TrP'] for timestep 11 (5.500e+01 s)\n",
      "Read in ['Den', 'TrP'] for timestep 12 (6.000e+01 s)\n",
      "Read in ['Den', 'TrP'] for timestep 13 (6.500e+01 s)\n",
      "Read in ['Den', 'TrP'] for timestep 14 (7.000e+01 s)\n",
      "Read in ['Den', 'TrP'] for timestep 12 (6.000e+01 s)\n",
      "Read in ['Den', 'TrP'] for timestep 13 (6.500e+01 s)\n",
      "Read in ['Den', 'TrP'] for timestep 14 (7.000e+01 s)\n",
      "Read in ['Den', 'TrP'] for timestep 15 (7.500e+01 s)\n",
      "Read in ['Den', 'TrP'] for timestep 13 (6.500e+01 s)\n",
      "Read in ['Den', 'TrP'] for timestep 14 (7.000e+01 s)\n",
      "Read in ['Den', 'TrP'] for timestep 15 (7.500e+01 s)\n",
      "Read in ['Den', 'TrP'] for timestep 16 (8.001e+01 s)\n",
      "Read in ['Den', 'TrP'] for timestep 14 (7.000e+01 s)\n",
      "Read in ['Den', 'TrP'] for timestep 15 (7.500e+01 s)\n",
      "Read in ['Den', 'TrP'] for timestep 16 (8.001e+01 s)\n",
      "Read in ['Den', 'TrP'] for timestep 17 (8.501e+01 s)\n",
      "Read in ['Den', 'TrP'] for timestep 15 (7.500e+01 s)\n",
      "Read in ['Den', 'TrP'] for timestep 16 (8.001e+01 s)\n",
      "Read in ['Den', 'TrP'] for timestep 17 (8.501e+01 s)\n",
      "Read in ['Den', 'TrP'] for timestep 18 (9.000e+01 s)\n",
      "Read in ['Den', 'TrP'] for timestep 16 (8.001e+01 s)\n",
      "Read in ['Den', 'TrP'] for timestep 17 (8.501e+01 s)\n",
      "Read in ['Den', 'TrP'] for timestep 18 (9.000e+01 s)\n",
      "Read in ['Den', 'TrP'] for timestep 19 (9.501e+01 s)\n",
      "Read in ['Den', 'TrP'] for timestep 17 (8.501e+01 s)\n",
      "Read in ['Den', 'TrP'] for timestep 18 (9.000e+01 s)\n",
      "Read in ['Den', 'TrP'] for timestep 19 (9.501e+01 s)\n",
      "Read in ['Den', 'TrP'] for timestep 20 (1.000e+02 s)\n",
      "Read in ['Den', 'TrP'] for timestep 18 (9.000e+01 s)\n",
      "Read in ['Den', 'TrP'] for timestep 19 (9.501e+01 s)\n",
      "Read in ['Den', 'TrP'] for timestep 20 (1.000e+02 s)\n",
      "Read in ['Den', 'TrP'] for timestep 21 (1.050e+02 s)\n",
      "Read in ['Den', 'TrP'] for timestep 19 (9.501e+01 s)\n",
      "Read in ['Den', 'TrP'] for timestep 20 (1.000e+02 s)\n",
      "Read in ['Den', 'TrP'] for timestep 21 (1.050e+02 s)\n",
      "Read in ['Den', 'TrP'] for timestep 22 (1.100e+02 s)\n",
      "Read in ['Den', 'TrP'] for timestep 20 (1.000e+02 s)\n",
      "Read in ['Den', 'TrP'] for timestep 21 (1.050e+02 s)\n",
      "Read in ['Den', 'TrP'] for timestep 22 (1.100e+02 s)\n",
      "Read in ['Den', 'TrP'] for timestep 23 (1.150e+02 s)\n",
      "Read in ['Den', 'TrP'] for timestep 21 (1.050e+02 s)\n",
      "Read in ['Den', 'TrP'] for timestep 22 (1.100e+02 s)\n",
      "Read in ['Den', 'TrP'] for timestep 23 (1.150e+02 s)\n",
      "Read in ['Den', 'TrP'] for timestep 24 (1.200e+02 s)\n",
      "Read in ['Den', 'TrP'] for timestep 22 (1.100e+02 s)\n",
      "Read in ['Den', 'TrP'] for timestep 23 (1.150e+02 s)\n",
      "Read in ['Den', 'TrP'] for timestep 24 (1.200e+02 s)\n",
      "Read in ['Den', 'TrP'] for timestep 25 (1.250e+02 s)\n",
      "Read in ['Den', 'TrP'] for timestep 23 (1.150e+02 s)\n",
      "Read in ['Den', 'TrP'] for timestep 24 (1.200e+02 s)\n",
      "Read in ['Den', 'TrP'] for timestep 25 (1.250e+02 s)\n",
      "Read in ['Den', 'TrP'] for timestep 26 (1.300e+02 s)\n",
      "Read in ['Den', 'TrP'] for timestep 24 (1.200e+02 s)\n",
      "Read in ['Den', 'TrP'] for timestep 25 (1.250e+02 s)\n",
      "Read in ['Den', 'TrP'] for timestep 26 (1.300e+02 s)\n",
      "Read in ['Den', 'TrP'] for timestep 27 (1.350e+02 s)\n",
      "Read in ['Den', 'TrP'] for timestep 25 (1.250e+02 s)\n",
      "Read in ['Den', 'TrP'] for timestep 26 (1.300e+02 s)\n",
      "Read in ['Den', 'TrP'] for timestep 27 (1.350e+02 s)\n",
      "Read in ['Den', 'TrP'] for timestep 28 (1.400e+02 s)\n",
      "Read in ['Den', 'TrP'] for timestep 26 (1.300e+02 s)\n",
      "Read in ['Den', 'TrP'] for timestep 27 (1.350e+02 s)\n",
      "Read in ['Den', 'TrP'] for timestep 28 (1.400e+02 s)\n",
      "Read in ['Den', 'TrP'] for timestep 29 (1.450e+02 s)\n",
      "Read in ['Den', 'TrP'] for timestep 27 (1.350e+02 s)\n",
      "Read in ['Den', 'TrP'] for timestep 28 (1.400e+02 s)\n",
      "Read in ['Den', 'TrP'] for timestep 29 (1.450e+02 s)\n",
      "Read in ['Den', 'TrP'] for timestep 30 (1.500e+02 s)\n",
      "Read in ['Den', 'TrP'] for timestep 28 (1.400e+02 s)\n",
      "Read in ['Den', 'TrP'] for timestep 29 (1.450e+02 s)\n",
      "Read in ['Den', 'TrP'] for timestep 30 (1.500e+02 s)\n",
      "Read in ['Den', 'TrP'] for timestep 31 (1.550e+02 s)\n",
      "Read in ['Den', 'TrP'] for timestep 29 (1.450e+02 s)\n",
      "Read in ['Den', 'TrP'] for timestep 30 (1.500e+02 s)\n",
      "Read in ['Den', 'TrP'] for timestep 31 (1.550e+02 s)\n",
      "Read in ['Den', 'TrP'] for timestep 32 (1.600e+02 s)\n",
      "Read in ['Den', 'TrP'] for timestep 30 (1.500e+02 s)\n",
      "Read in ['Den', 'TrP'] for timestep 31 (1.550e+02 s)\n",
      "Read in ['Den', 'TrP'] for timestep 32 (1.600e+02 s)\n",
      "Read in ['Den', 'TrP'] for timestep 33 (1.650e+02 s)\n"
     ]
    },
    {
     "name": "stderr",
     "output_type": "stream",
     "text": [
      "/home/nilscp/anaconda3/envs/iSALE/lib/python3.8/site-packages/scipy/optimize/minpack.py:828: OptimizeWarning: Covariance of the parameters could not be estimated\n",
      "  warnings.warn('Covariance of the parameters could not be estimated',\n"
     ]
    },
    {
     "name": "stdout",
     "output_type": "stream",
     "text": [
      "Read in ['Den', 'TrP'] for timestep 0 (0.000e+00 s)\n"
     ]
    }
   ],
   "source": [
    "(Ve, de, De, \n",
    " x_tracers, y_tracers, x_tracers_contour, y_tracers_contour, \n",
    " timesteps, tracer_idx, n, v, angle, xpos,\n",
    " tair, land) = ej.wrap(model, method, thresholdz, g)"
   ]
  },
  {
   "cell_type": "code",
   "execution_count": 5,
   "metadata": {},
   "outputs": [
    {
     "name": "stdout",
     "output_type": "stream",
     "text": [
      "Read in ['Den'] for timestep 0 (0.000e+00 s)\n"
     ]
    }
   ],
   "source": [
    "initial_step = model.readStep(['Den'], 0)"
   ]
  },
  {
   "cell_type": "markdown",
   "metadata": {},
   "source": [
    "#### Plotting of where the ejected materials have been excavated from"
   ]
  },
  {
   "cell_type": "code",
   "execution_count": 6,
   "metadata": {},
   "outputs": [
    {
     "data": {
      "text/plain": [
       "[<matplotlib.lines.Line2D at 0x7fa6a0c8da30>]"
      ]
     },
     "execution_count": 6,
     "metadata": {},
     "output_type": "execute_result"
    },
    {
     "data": {
      "image/png": "[encoded data removed]",
      "text/plain": [
       "<Figure size 576x576 with 1 Axes>"
      ]
     },
     "metadata": {
      "needs_background": "light"
     },
     "output_type": "display_data"
    }
   ],
   "source": [
    "plt.figure(figsize=(8,8))\n",
    "plt.plot(initial_step.xmark, initial_step.ymark, \"ko\")\n",
    "plt.plot(x_tracers, y_tracers, \"bo\")\n",
    "#plt.plot(x_tracers_contour, y_tracers_contour, \"ro\") # there is a problem here"
   ]
  },
  {
   "cell_type": "code",
   "execution_count": 7,
   "metadata": {},
   "outputs": [
    {
     "name": "stdout",
     "output_type": "stream",
     "text": [
      "Read in ['Den'] for timestep 33 (1.650e+02 s)\n"
     ]
    }
   ],
   "source": [
    "last_step = model.readStep(['Den'], 33)"
   ]
  },
  {
   "cell_type": "code",
   "execution_count": 8,
   "metadata": {},
   "outputs": [
    {
     "data": {
      "text/plain": [
       "(0.0, 100000.0)"
      ]
     },
     "execution_count": 8,
     "metadata": {},
     "output_type": "execute_result"
    },
    {
     "data": {
      "image/png": "[encoded data removed]",
      "text/plain": [
       "<Figure size 576x576 with 1 Axes>"
      ]
     },
     "metadata": {
      "needs_background": "light"
     },
     "output_type": "display_data"
    }
   ],
   "source": [
    "plt.figure(figsize=(8,8))\n",
    "plt.plot(last_step.xmark, last_step.ymark, \"ko\")\n",
    "plt.ylim((-50000,20000))\n",
    "plt.xlim((0,100000))"
   ]
  },
  {
   "cell_type": "code",
   "execution_count": 18,
   "metadata": {},
   "outputs": [
    {
     "name": "stderr",
     "output_type": "stream",
     "text": [
      "<ipython-input-18-f4e1e689d459>:2: MatplotlibDeprecationWarning: shading='flat' when X and Y have the same dimensions as C is deprecated since 3.3.  Either specify the corners of the quadrilaterals with X and Y, or pass shading='auto', 'nearest' or 'gouraud', or set rcParams['pcolor.shading'].  This will become an error two minor releases later.\n",
      "  plt.pcolormesh(model.xc, model.yc, last_step.data[0])\n"
     ]
    },
    {
     "data": {
      "text/plain": [
       "<matplotlib.colorbar.Colorbar at 0x7fa69f84c9d0>"
      ]
     },
     "execution_count": 18,
     "metadata": {},
     "output_type": "execute_result"
    },
    {
     "data": {
      "image/png": "[encoded data removed]",
      "text/plain": [
       "<Figure size 720x576 with 2 Axes>"
      ]
     },
     "metadata": {
      "needs_background": "light"
     },
     "output_type": "display_data"
    }
   ],
   "source": [
    "plt.figure(figsize=(10,8))\n",
    "plt.pcolormesh(model.xc, model.yc, last_step.data[0])\n",
    "plt.ylim((-50000,20000))\n",
    "plt.xlim((0,100000))\n",
    "plt.colorbar()"
   ]
  },
  {
   "cell_type": "markdown",
   "metadata": {},
   "source": [
    "The `calculate` function is similar to `warp` except that most of the data is saved to the path specified in `path_data`"
   ]
  },
  {
   "cell_type": "code",
   "execution_count": 9,
   "metadata": {},
   "outputs": [
    {
     "name": "stdout",
     "output_type": "stream",
     "text": [
      "Chicxulub\n",
      "Opened iSALE data file '/home/nilscp/iSALE/Dellen/share/examples/Chicxulub/Chicxulub/jdata.dat', with 34 time steps\n",
      "Read in ['Den', 'TrP'] for timestep 0 (0.000e+00 s)\n",
      "Read in ['Den', 'TrP'] for timestep 1 (5.006e+00 s)\n",
      "Read in ['Den', 'TrP'] for timestep 2 (1.000e+01 s)\n",
      "Read in ['Den', 'TrP'] for timestep 3 (1.501e+01 s)\n",
      "Read in ['Den', 'TrP'] for timestep 1 (5.006e+00 s)\n",
      "Read in ['Den', 'TrP'] for timestep 2 (1.000e+01 s)\n",
      "Read in ['Den', 'TrP'] for timestep 3 (1.501e+01 s)\n",
      "Read in ['Den', 'TrP'] for timestep 4 (2.001e+01 s)\n",
      "Read in ['Den', 'TrP'] for timestep 2 (1.000e+01 s)\n",
      "Read in ['Den', 'TrP'] for timestep 3 (1.501e+01 s)\n",
      "Read in ['Den', 'TrP'] for timestep 4 (2.001e+01 s)\n",
      "Read in ['Den', 'TrP'] for timestep 5 (2.500e+01 s)\n",
      "Read in ['Den', 'TrP'] for timestep 3 (1.501e+01 s)\n",
      "Read in ['Den', 'TrP'] for timestep 4 (2.001e+01 s)\n",
      "Read in ['Den', 'TrP'] for timestep 5 (2.500e+01 s)\n",
      "Read in ['Den', 'TrP'] for timestep 6 (3.000e+01 s)\n",
      "Read in ['Den', 'TrP'] for timestep 4 (2.001e+01 s)\n",
      "Read in ['Den', 'TrP'] for timestep 5 (2.500e+01 s)\n",
      "Read in ['Den', 'TrP'] for timestep 6 (3.000e+01 s)\n",
      "Read in ['Den', 'TrP'] for timestep 7 (3.501e+01 s)\n",
      "Read in ['Den', 'TrP'] for timestep 5 (2.500e+01 s)\n",
      "Read in ['Den', 'TrP'] for timestep 6 (3.000e+01 s)\n",
      "Read in ['Den', 'TrP'] for timestep 7 (3.501e+01 s)\n",
      "Read in ['Den', 'TrP'] for timestep 8 (4.000e+01 s)\n",
      "Read in ['Den', 'TrP'] for timestep 6 (3.000e+01 s)\n",
      "Read in ['Den', 'TrP'] for timestep 7 (3.501e+01 s)\n",
      "Read in ['Den', 'TrP'] for timestep 8 (4.000e+01 s)\n",
      "Read in ['Den', 'TrP'] for timestep 9 (4.500e+01 s)\n",
      "Read in ['Den', 'TrP'] for timestep 7 (3.501e+01 s)\n",
      "Read in ['Den', 'TrP'] for timestep 8 (4.000e+01 s)\n",
      "Read in ['Den', 'TrP'] for timestep 9 (4.500e+01 s)\n",
      "Read in ['Den', 'TrP'] for timestep 10 (5.000e+01 s)\n",
      "Read in ['Den', 'TrP'] for timestep 8 (4.000e+01 s)\n",
      "Read in ['Den', 'TrP'] for timestep 9 (4.500e+01 s)\n",
      "Read in ['Den', 'TrP'] for timestep 10 (5.000e+01 s)\n",
      "Read in ['Den', 'TrP'] for timestep 11 (5.500e+01 s)\n",
      "Read in ['Den', 'TrP'] for timestep 9 (4.500e+01 s)\n",
      "Read in ['Den', 'TrP'] for timestep 10 (5.000e+01 s)\n",
      "Read in ['Den', 'TrP'] for timestep 11 (5.500e+01 s)\n",
      "Read in ['Den', 'TrP'] for timestep 12 (6.000e+01 s)\n",
      "Read in ['Den', 'TrP'] for timestep 10 (5.000e+01 s)\n",
      "Read in ['Den', 'TrP'] for timestep 11 (5.500e+01 s)\n",
      "Read in ['Den', 'TrP'] for timestep 12 (6.000e+01 s)\n",
      "Read in ['Den', 'TrP'] for timestep 13 (6.500e+01 s)\n",
      "Read in ['Den', 'TrP'] for timestep 11 (5.500e+01 s)\n",
      "Read in ['Den', 'TrP'] for timestep 12 (6.000e+01 s)\n",
      "Read in ['Den', 'TrP'] for timestep 13 (6.500e+01 s)\n",
      "Read in ['Den', 'TrP'] for timestep 14 (7.000e+01 s)\n",
      "Read in ['Den', 'TrP'] for timestep 12 (6.000e+01 s)\n",
      "Read in ['Den', 'TrP'] for timestep 13 (6.500e+01 s)\n",
      "Read in ['Den', 'TrP'] for timestep 14 (7.000e+01 s)\n",
      "Read in ['Den', 'TrP'] for timestep 15 (7.500e+01 s)\n",
      "Read in ['Den', 'TrP'] for timestep 13 (6.500e+01 s)\n",
      "Read in ['Den', 'TrP'] for timestep 14 (7.000e+01 s)\n",
      "Read in ['Den', 'TrP'] for timestep 15 (7.500e+01 s)\n",
      "Read in ['Den', 'TrP'] for timestep 16 (8.001e+01 s)\n",
      "Read in ['Den', 'TrP'] for timestep 14 (7.000e+01 s)\n",
      "Read in ['Den', 'TrP'] for timestep 15 (7.500e+01 s)\n",
      "Read in ['Den', 'TrP'] for timestep 16 (8.001e+01 s)\n",
      "Read in ['Den', 'TrP'] for timestep 17 (8.501e+01 s)\n",
      "Read in ['Den', 'TrP'] for timestep 15 (7.500e+01 s)\n",
      "Read in ['Den', 'TrP'] for timestep 16 (8.001e+01 s)\n",
      "Read in ['Den', 'TrP'] for timestep 17 (8.501e+01 s)\n",
      "Read in ['Den', 'TrP'] for timestep 18 (9.000e+01 s)\n",
      "Read in ['Den', 'TrP'] for timestep 16 (8.001e+01 s)\n",
      "Read in ['Den', 'TrP'] for timestep 17 (8.501e+01 s)\n",
      "Read in ['Den', 'TrP'] for timestep 18 (9.000e+01 s)\n",
      "Read in ['Den', 'TrP'] for timestep 19 (9.501e+01 s)\n",
      "Read in ['Den', 'TrP'] for timestep 17 (8.501e+01 s)\n",
      "Read in ['Den', 'TrP'] for timestep 18 (9.000e+01 s)\n",
      "Read in ['Den', 'TrP'] for timestep 19 (9.501e+01 s)\n",
      "Read in ['Den', 'TrP'] for timestep 20 (1.000e+02 s)\n",
      "Read in ['Den', 'TrP'] for timestep 18 (9.000e+01 s)\n",
      "Read in ['Den', 'TrP'] for timestep 19 (9.501e+01 s)\n",
      "Read in ['Den', 'TrP'] for timestep 20 (1.000e+02 s)\n",
      "Read in ['Den', 'TrP'] for timestep 21 (1.050e+02 s)\n",
      "Read in ['Den', 'TrP'] for timestep 19 (9.501e+01 s)\n",
      "Read in ['Den', 'TrP'] for timestep 20 (1.000e+02 s)\n",
      "Read in ['Den', 'TrP'] for timestep 21 (1.050e+02 s)\n",
      "Read in ['Den', 'TrP'] for timestep 22 (1.100e+02 s)\n",
      "Read in ['Den', 'TrP'] for timestep 20 (1.000e+02 s)\n",
      "Read in ['Den', 'TrP'] for timestep 21 (1.050e+02 s)\n",
      "Read in ['Den', 'TrP'] for timestep 22 (1.100e+02 s)\n",
      "Read in ['Den', 'TrP'] for timestep 23 (1.150e+02 s)\n",
      "Read in ['Den', 'TrP'] for timestep 21 (1.050e+02 s)\n",
      "Read in ['Den', 'TrP'] for timestep 22 (1.100e+02 s)\n",
      "Read in ['Den', 'TrP'] for timestep 23 (1.150e+02 s)\n",
      "Read in ['Den', 'TrP'] for timestep 24 (1.200e+02 s)\n",
      "Read in ['Den', 'TrP'] for timestep 22 (1.100e+02 s)\n",
      "Read in ['Den', 'TrP'] for timestep 23 (1.150e+02 s)\n",
      "Read in ['Den', 'TrP'] for timestep 24 (1.200e+02 s)\n",
      "Read in ['Den', 'TrP'] for timestep 25 (1.250e+02 s)\n",
      "Read in ['Den', 'TrP'] for timestep 23 (1.150e+02 s)\n",
      "Read in ['Den', 'TrP'] for timestep 24 (1.200e+02 s)\n",
      "Read in ['Den', 'TrP'] for timestep 25 (1.250e+02 s)\n",
      "Read in ['Den', 'TrP'] for timestep 26 (1.300e+02 s)\n",
      "Read in ['Den', 'TrP'] for timestep 24 (1.200e+02 s)\n",
      "Read in ['Den', 'TrP'] for timestep 25 (1.250e+02 s)\n",
      "Read in ['Den', 'TrP'] for timestep 26 (1.300e+02 s)\n",
      "Read in ['Den', 'TrP'] for timestep 27 (1.350e+02 s)\n",
      "Read in ['Den', 'TrP'] for timestep 25 (1.250e+02 s)\n",
      "Read in ['Den', 'TrP'] for timestep 26 (1.300e+02 s)\n",
      "Read in ['Den', 'TrP'] for timestep 27 (1.350e+02 s)\n",
      "Read in ['Den', 'TrP'] for timestep 28 (1.400e+02 s)\n",
      "Read in ['Den', 'TrP'] for timestep 26 (1.300e+02 s)\n",
      "Read in ['Den', 'TrP'] for timestep 27 (1.350e+02 s)\n",
      "Read in ['Den', 'TrP'] for timestep 28 (1.400e+02 s)\n",
      "Read in ['Den', 'TrP'] for timestep 29 (1.450e+02 s)\n",
      "Read in ['Den', 'TrP'] for timestep 27 (1.350e+02 s)\n",
      "Read in ['Den', 'TrP'] for timestep 28 (1.400e+02 s)\n",
      "Read in ['Den', 'TrP'] for timestep 29 (1.450e+02 s)\n",
      "Read in ['Den', 'TrP'] for timestep 30 (1.500e+02 s)\n",
      "Read in ['Den', 'TrP'] for timestep 28 (1.400e+02 s)\n",
      "Read in ['Den', 'TrP'] for timestep 29 (1.450e+02 s)\n",
      "Read in ['Den', 'TrP'] for timestep 30 (1.500e+02 s)\n",
      "Read in ['Den', 'TrP'] for timestep 31 (1.550e+02 s)\n",
      "Read in ['Den', 'TrP'] for timestep 29 (1.450e+02 s)\n",
      "Read in ['Den', 'TrP'] for timestep 30 (1.500e+02 s)\n",
      "Read in ['Den', 'TrP'] for timestep 31 (1.550e+02 s)\n",
      "Read in ['Den', 'TrP'] for timestep 32 (1.600e+02 s)\n",
      "Read in ['Den', 'TrP'] for timestep 30 (1.500e+02 s)\n",
      "Read in ['Den', 'TrP'] for timestep 31 (1.550e+02 s)\n",
      "Read in ['Den', 'TrP'] for timestep 32 (1.600e+02 s)\n",
      "Read in ['Den', 'TrP'] for timestep 33 (1.650e+02 s)\n"
     ]
    },
    {
     "name": "stderr",
     "output_type": "stream",
     "text": [
      "/home/nilscp/anaconda3/envs/iSALE/lib/python3.8/site-packages/scipy/optimize/minpack.py:828: OptimizeWarning: Covariance of the parameters could not be estimated\n",
      "  warnings.warn('Covariance of the parameters could not be estimated',\n"
     ]
    },
    {
     "name": "stdout",
     "output_type": "stream",
     "text": [
      "Read in ['Den', 'TrP'] for timestep 0 (0.000e+00 s)\n",
      "pySALEPlot: Closing file 2\n",
      "\n"
     ]
    }
   ],
   "source": [
    "ej.calculate(path_jdata, path_data, method, thresholdz, g)"
   ]
  },
  {
   "cell_type": "code",
   "execution_count": 14,
   "metadata": {},
   "outputs": [
    {
     "data": {
      "text/plain": [
       "165.00979614257812"
      ]
     },
     "execution_count": 14,
     "metadata": {},
     "output_type": "execute_result"
    }
   ],
   "source": [
    "last_step.time"
   ]
  },
  {
   "cell_type": "markdown",
   "metadata": {},
   "source": [
    "```bash\n",
    "cd /home/nilscp/iSALE/results/tmp\n",
    "ls\n",
    ">> Chicxulub\n",
    "cd Chicxulub\n",
    ">> \n",
    "Chicxulub_ejected_material_properties.txt\n",
    "Chicxulub_excavation_properties.txt\n",
    "Chicxulub_excavation_tracers_XY_contour.txt\n",
    "Chicxulub_excavation_tracers_XY.txt\n",
    "Chicxulub_ntracers.txt\n",
    "```"
   ]
  }
 ],
 "metadata": {
  "kernelspec": {
   "display_name": "Python 3",
   "language": "python",
   "name": "python3"
  },
  "language_info": {
   "codemirror_mode": {
    "name": "ipython",
    "version": 3
   },
   "file_extension": ".py",
   "mimetype": "text/x-python",
   "name": "python",
   "nbconvert_exporter": "python",
   "pygments_lexer": "ipython3",
   "version": "3.7.6"
  }
 },
 "nbformat": 4,
 "nbformat_minor": 4
}
